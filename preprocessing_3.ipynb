{
 "cells": [
  {
   "cell_type": "markdown",
   "metadata": {},
   "source": [
    "Step 1: Load the Dataset\n"
   ]
  },
  {
   "cell_type": "code",
   "execution_count": 2,
   "metadata": {},
   "outputs": [],
   "source": [
    "import pandas as pd\n",
    "import seaborn as sns\n",
    "import matplotlib.pyplot as plt\n",
    "from sklearn.feature_selection import SelectKBest, f_classif\n",
    "\n",
    "# Load the final merged dataset\n",
    "file_path = 'data/final_customer_data_12.csv'\n",
    "final_df = pd.read_csv(file_path)\n"
   ]
  },
  {
   "cell_type": "markdown",
   "metadata": {},
   "source": [
    "Step 2: Data Integrity Checks\n"
   ]
  },
  {
   "cell_type": "code",
   "execution_count": 25,
   "metadata": {},
   "outputs": [
    {
     "name": "stdout",
     "output_type": "stream",
     "text": [
      "Checking for duplicate entries...\n",
      "Number of duplicate rows: 0\n",
      "\n",
      "Checking for missing values...\n",
      "customer_id_new             1\n",
      "social_media_platform      12\n",
      "purchase_interest_score    12\n",
      "review_sentiment           12\n",
      "dtype: int64\n",
      "Unique valid customers: 66\n"
     ]
    }
   ],
   "source": [
    "# Check for duplicate entries\n",
    "print(\"Checking for duplicate entries...\")\n",
    "duplicates = final_df.duplicated().sum()\n",
    "print(f\"Number of duplicate rows: {duplicates}\")\n",
    "final_df = final_df.drop_duplicates()\n",
    "\n",
    "# Check for missing values\n",
    "print(\"\\nChecking for missing values...\")\n",
    "missing_values = final_df.isnull().sum()\n",
    "print(missing_values[missing_values > 0])\n",
    "\n",
    "# Validate customer transactions against social profiles\n",
    "if 'customer_id_new' in final_df.columns:\n",
    "    valid_customers = final_df['customer_id_new'].nunique()\n",
    "    print(f\"Unique valid customers: {valid_customers}\")\n"
   ]
  },
  {
   "cell_type": "markdown",
   "metadata": {},
   "source": [
    "Step 3: Statistical Summarization"
   ]
  },
  {
   "cell_type": "code",
   "execution_count": 26,
   "metadata": {},
   "outputs": [
    {
     "name": "stdout",
     "output_type": "stream",
     "text": [
      "\n",
      "Generating summary statistics...\n",
      "       customer_id_legacy  transaction_id  purchase_amount  customer_rating  \\\n",
      "count           67.000000       67.000000        67.000000        67.000000   \n",
      "mean           155.223881     1039.776119       271.761918         3.140682   \n",
      "std             27.468892       36.374242       111.064148         1.143778   \n",
      "min            103.000000     1001.000000        61.407674         1.044554   \n",
      "25%            130.500000     1013.500000       190.394233         2.191769   \n",
      "50%            157.000000     1027.000000       279.137726         3.270815   \n",
      "75%            181.000000     1054.500000       365.404713         4.015098   \n",
      "max            199.000000     1133.000000       494.231987         4.930606   \n",
      "\n",
      "       engagement_score  purchase_interest_score  \n",
      "count         67.000000                55.000000  \n",
      "mean         164.095360                 3.161818  \n",
      "std           66.649212                 1.179845  \n",
      "min           36.844604                 1.000000  \n",
      "25%          115.936540                 2.200000  \n",
      "50%          169.442636                 3.300000  \n",
      "75%          220.382828                 4.100000  \n",
      "max          298.179192                 4.900000  \n"
     ]
    },
    {
     "data": {
      "image/png": "[encoded data removed]",
      "text/plain": [
       "<Figure size 1000x500 with 1 Axes>"
      ]
     },
     "metadata": {},
     "output_type": "display_data"
    }
   ],
   "source": [
    "# Generate summary statistics\n",
    "print(\"\\nGenerating summary statistics...\")\n",
    "print(final_df.describe())\n",
    "\n",
    "# Visualize transaction amount distribution\n",
    "plt.figure(figsize=(10, 5))\n",
    "sns.histplot(final_df['purchase_amount'], bins=50, kde=True)\n",
    "plt.title(\"Transaction Amount Distribution\")\n",
    "plt.show()\n"
   ]
  },
  {
   "cell_type": "markdown",
   "metadata": {},
   "source": [
    "Step 4: Feature Selection"
   ]
  },
  {
   "cell_type": "code",
   "execution_count": 27,
   "metadata": {},
   "outputs": [
    {
     "name": "stdout",
     "output_type": "stream",
     "text": [
      "\n",
      "Top 10 Selected Features:\n",
      "['customer_id_legacy', 'transaction_id', 'customer_rating', 'engagement_score', 'purchase_interest_score']\n"
     ]
    },
    {
     "name": "stderr",
     "output_type": "stream",
     "text": [
      "c:\\Users\\thinkBIG\\AppData\\Local\\Programs\\Python\\Python312\\Lib\\site-packages\\sklearn\\feature_selection\\_univariate_selection.py:113: RuntimeWarning: divide by zero encountered in divide\n",
      "  f = msb / msw\n"
     ]
    }
   ],
   "source": [
    "from sklearn.impute import SimpleImputer\n",
    "\n",
    "# Ensure only numeric columns are used\n",
    "numeric_df = final_df.select_dtypes(include=['number'])\n",
    "\n",
    "# Handle missing values\n",
    "imputer = SimpleImputer(strategy='mean')  # You can change to 'median' or 'most_frequent'\n",
    "X = numeric_df.drop(columns=['purchase_amount'], errors='ignore')  # Drop target variable\n",
    "X = pd.DataFrame(imputer.fit_transform(X), columns=X.columns)  # Impute missing values\n",
    "\n",
    "y = final_df['purchase_amount'].dropna()  # Ensure target variable has no NaN values\n",
    "\n",
    "# Select the top 10 most important features\n",
    "selector = SelectKBest(score_func=f_classif, k=min(10, X.shape[1]))  \n",
    "X_new = selector.fit_transform(X, y)\n",
    "\n",
    "selected_features = X.columns[selector.get_support()]\n",
    "print(\"\\nTop 10 Selected Features:\")\n",
    "print(selected_features.tolist())\n"
   ]
  },
  {
   "cell_type": "markdown",
   "metadata": {},
   "source": [
    "Step 5: Save the Final Cleaned Dataset"
   ]
  },
  {
   "cell_type": "code",
   "execution_count": 3,
   "metadata": {},
   "outputs": [
    {
     "name": "stdout",
     "output_type": "stream",
     "text": [
      "\n",
      "✅ Final cleaned dataset saved as: data/final_dataset_ready_group12.csv\n"
     ]
    }
   ],
   "source": [
    "# Define output file name\n",
    "output_file = 'data/final_dataset_ready_group12.csv' \n",
    "# Save the final cleaned dataset\n",
    "final_df.to_csv(output_file, index=False)\n",
    "\n",
    "print(f\"\\n✅ Final cleaned dataset saved as: {output_file}\")\n"
   ]
  }
 ],
 "metadata": {
  "kernelspec": {
   "display_name": "Python 3",
   "language": "python",
   "name": "python3"
  },
  "language_info": {
   "codemirror_mode": {
    "name": "ipython",
    "version": 3
   },
   "file_extension": ".py",
   "mimetype": "text/x-python",
   "name": "python",
   "nbconvert_exporter": "python",
   "pygments_lexer": "ipython3",
   "version": "3.12.7"
  }
 },
 "nbformat": 4,
 "nbformat_minor": 2
}
