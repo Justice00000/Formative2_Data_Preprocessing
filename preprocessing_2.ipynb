{
  "cells": [
    {
      "cell_type": "code",
      "execution_count": 20,
      "metadata": {
        "id": "ttLg_ja5TFV-"
      },
      "outputs": [],
      "source": [
        "import pandas as pd\n",
        "import numpy as np\n",
        "import pandas as pd\n",
        "import matplotlib.pyplot as plt"
      ]
    },
    {
      "cell_type": "markdown",
      "source": [
        "# Task 2: Merging Datasets with Transitive Properties"
      ],
      "metadata": {
        "id": "0xik6jn3W1J_"
      }
    },
    {
      "cell_type": "code",
      "execution_count": 31,
      "metadata": {
        "id": "nkLHcebITFXo",
        "colab": {
          "base_uri": "https://localhost:8080/"
        },
        "outputId": "38d5da19-8cca-4778-ecdf-bc47b5e5f136"
      },
      "outputs": [
        {
          "output_type": "stream",
          "name": "stdout",
          "text": [
            "Transactions Sample:\n",
            "   customer_id_legacy  transaction_id  purchase_amount  customer_rating  \\\n",
            "0                 151            1001       411.072250         2.241585   \n",
            "1                 192            1002       329.532788         4.305076   \n",
            "2                 114            1003       430.609797         2.141953   \n",
            "3                 171            1004       251.203273         2.841900   \n",
            "4                 160            1005        55.177123         1.355378   \n",
            "\n",
            "  purchase_date product_category  \n",
            "0    2024-01-01           Sports  \n",
            "1    2024-01-02      Electronics  \n",
            "2    2024-01-03      Electronics  \n",
            "3    2024-01-04         Clothing  \n",
            "4    2024-01-05         Clothing  \n",
            "Social Profiles Sample:\n",
            "  customer_id_new social_media_platform  engagement_score  \\\n",
            "0            A178              LinkedIn                74   \n",
            "1            A190               Twitter                82   \n",
            "2            A150              Facebook                96   \n",
            "3            A162               Twitter                89   \n",
            "4            A197               Twitter                92   \n",
            "\n",
            "   purchase_interest_score review_sentiment  \n",
            "0                      4.9         Positive  \n",
            "1                      4.8          Neutral  \n",
            "2                      1.6         Positive  \n",
            "3                      2.6         Positive  \n",
            "4                      2.3          Neutral  \n",
            "ID Mapping Sample:\n",
            "   customer_id_legacy customer_id_new\n",
            "0                 195            A105\n",
            "1                 161            A118\n",
            "2                 192            A156\n",
            "3                 157            A168\n",
            "4                 166            A102\n"
          ]
        }
      ],
      "source": [
        "# Load necessary datasets\n",
        "transactions = pd.read_csv('customer_transactions_augmented.csv')\n",
        "social_profiles = pd.read_csv('customer_social_profiles.csv')\n",
        "id_mapping = pd.read_csv('id_mapping.csv')\n",
        "\n",
        "# Inspect data\n",
        "print(\"Transactions Sample:\")\n",
        "print(transactions.head())\n",
        "print(\"Social Profiles Sample:\")\n",
        "print(social_profiles.head())\n",
        "print(\"ID Mapping Sample:\")\n",
        "print(id_mapping.head())"
      ]
    },
    {
      "cell_type": "code",
      "source": [
        "# Merge transactions with id_mapping to get the new customer ID\n",
        "transactions = transactions.merge(id_mapping, left_on='customer_id_legacy', right_on='customer_id_legacy', how='left')"
      ],
      "metadata": {
        "id": "qjY8asp0WEJi"
      },
      "execution_count": 32,
      "outputs": []
    },
    {
      "cell_type": "code",
      "source": [
        "# Merge with social_profiles using the new customer ID\n",
        "merged_data = transactions.merge(social_profiles, left_on='customer_id_new', right_on='customer_id_new', how='left')"
      ],
      "metadata": {
        "id": "tQcK-g7IWPE2"
      },
      "execution_count": 33,
      "outputs": []
    },
    {
      "cell_type": "code",
      "source": [
        "# Handle potential duplicate mappings (one-to-many relationships)\n",
        "merged_data.drop_duplicates(subset=['customer_id_new'], keep='first', inplace=True)"
      ],
      "metadata": {
        "id": "TgfQj2VVWStp"
      },
      "execution_count": 34,
      "outputs": []
    },
    {
      "cell_type": "code",
      "source": [
        "# Feature Engineering: Customer Engagement Score\n",
        "merged_data['engagement_score'] = (merged_data['purchase_amount'].fillna(0) * 0.6) + (merged_data['purchase_interest_score'].fillna(0) * 0.4)"
      ],
      "metadata": {
        "id": "8eM8SxZ9WXnj"
      },
      "execution_count": 35,
      "outputs": []
    },
    {
      "cell_type": "code",
      "source": [
        "# Export final merged dataset\n",
        "merged_data.to_csv('final_customer_data_groupX.csv', index=False)"
      ],
      "metadata": {
        "id": "PCZTxR75Wa1H"
      },
      "execution_count": 36,
      "outputs": []
    },
    {
      "cell_type": "code",
      "source": [
        "# Display summary\n",
        "print(\"Final Merged Data Sample:\")\n",
        "print(merged_data.head())"
      ],
      "metadata": {
        "colab": {
          "base_uri": "https://localhost:8080/"
        },
        "id": "IfLEP513WdIH",
        "outputId": "3663938a-9329-4899-da70-a5f5bd5a13a4"
      },
      "execution_count": 37,
      "outputs": [
        {
          "output_type": "stream",
          "name": "stdout",
          "text": [
            "Final Merged Data Sample:\n",
            "   customer_id_legacy  transaction_id  purchase_amount  customer_rating  \\\n",
            "0                 151            1001       411.072250         2.241585   \n",
            "1                 192            1002       329.532788         4.305076   \n",
            "2                 192            1002       329.532788         4.305076   \n",
            "3                 192            1002       329.532788         4.305076   \n",
            "4                 192            1002       329.532788         4.305076   \n",
            "\n",
            "  purchase_date product_category customer_id_new social_media_platform  \\\n",
            "0    2024-01-01           Sports            A176              Facebook   \n",
            "1    2024-01-02      Electronics            A156             Instagram   \n",
            "2    2024-01-02      Electronics            A108                   NaN   \n",
            "3    2024-01-02      Electronics            A110                   NaN   \n",
            "4    2024-01-02      Electronics            A140              LinkedIn   \n",
            "\n",
            "   engagement_score  purchase_interest_score review_sentiment  \n",
            "0        247.963350                      3.3         Negative  \n",
            "1        199.679673                      4.9         Positive  \n",
            "2        197.719673                      NaN              NaN  \n",
            "3        197.719673                      NaN              NaN  \n",
            "4        198.959673                      3.1         Negative  \n"
          ]
        }
      ]
    }
  ],
  "metadata": {
    "kernelspec": {
      "display_name": "myenv",
      "language": "python",
      "name": "python3"
    },
    "language_info": {
      "codemirror_mode": {
        "name": "ipython",
        "version": 3
      },
      "file_extension": ".py",
      "mimetype": "text/x-python",
      "name": "python",
      "nbconvert_exporter": "python",
      "pygments_lexer": "ipython3",
      "version": "3.12.8"
    },
    "colab": {
      "provenance": []
    }
  },
  "nbformat": 4,
  "nbformat_minor": 0
}