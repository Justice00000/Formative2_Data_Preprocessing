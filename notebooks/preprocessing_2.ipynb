{
  "cells": [
    {
      "cell_type": "code",
      "execution_count": 68,
      "metadata": {
        "id": "ttLg_ja5TFV-"
      },
      "outputs": [],
      "source": [
        "import pandas as pd\n",
        "import numpy as np\n",
        "import pandas as pd\n",
        "import matplotlib.pyplot as plt\n",
        "from sklearn.feature_extraction.text import TfidfVectorizer"
      ]
    },
    {
      "cell_type": "markdown",
      "source": [
        "# Task 2: Merging Datasets with Transitive Properties"
      ],
      "metadata": {
        "id": "0xik6jn3W1J_"
      }
    },
    {
      "cell_type": "code",
      "source": [
        "import pandas as pd\n",
        "\n",
        "# Load datasets\n",
        "transactions = pd.read_csv(\"customer_transactions_augmented.csv\")\n",
        "social_profiles = pd.read_csv(\"customer_social_profiles.csv\")\n",
        "id_mapping = pd.read_csv(\"id_mapping.csv\")\n",
        "\n",
        "# Merge customer_id_new into transactions before any operations\n",
        "transactions = transactions.merge(id_mapping, on=\"customer_id_legacy\", how=\"left\")\n",
        "\n",
        "# Merge transactions with social profiles using mapped IDs\n",
        "merged_data = transactions.merge(social_profiles, on=\"customer_id_new\", how=\"left\")\n",
        "\n",
        "# Handle conflicts: Aggregate by customer_id_new\n",
        "merged_data = merged_data.groupby('customer_id_new').agg({\n",
        "    'purchase_amount': 'sum',  # Total amount spent\n",
        "    'purchase_interest_score': 'mean',  # Average purchase interest score\n",
        "    'engagement_score': 'mean'  # Average engagement score\n",
        "}).reset_index()"
      ],
      "metadata": {
        "id": "BNTOgNvx9QV3"
      },
      "execution_count": 69,
      "outputs": []
    },
    {
      "cell_type": "code",
      "source": [
        "# -------------------------------\n",
        "# ✅ Moving Average per Customer\n",
        "# -------------------------------\n",
        "transactions['purchase_date'] = pd.to_datetime(transactions['purchase_date'])\n",
        "transactions = transactions.sort_values(['customer_id_new', 'purchase_date'])\n",
        "\n",
        "transactions['moving_avg_transaction'] = transactions.groupby('customer_id_new')['purchase_amount'].transform(\n",
        "    lambda x: x.rolling(window=3, min_periods=1).mean()\n",
        ")\n",
        "\n",
        "# Merge moving average back to merged_data\n",
        "avg_spending = transactions.groupby('customer_id_new')['moving_avg_transaction'].mean().reset_index()\n",
        "merged_data = merged_data.merge(avg_spending, on=\"customer_id_new\", how=\"left\")"
      ],
      "metadata": {
        "id": "oE_Z21Jm9Y6H"
      },
      "execution_count": 70,
      "outputs": []
    },
    {
      "cell_type": "code",
      "source": [
        "# -------------------------------\n",
        "# ✅ Time-based Monthly Aggregation\n",
        "# -------------------------------\n",
        "transactions['purchase_month'] = transactions['purchase_date'].dt.to_period('M')\n",
        "\n",
        "monthly_spending = transactions.groupby(['customer_id_new', 'purchase_month'])['purchase_amount'].sum().reset_index()\n",
        "monthly_spending = monthly_spending.groupby('customer_id_new')['purchase_amount'].mean().reset_index()\n",
        "\n",
        "# Merge monthly spending into merged_data\n",
        "merged_data = merged_data.merge(monthly_spending, on=\"customer_id_new\", how=\"left\", suffixes=('', '_monthly'))"
      ],
      "metadata": {
        "id": "ycet6ksY9fNi"
      },
      "execution_count": 71,
      "outputs": []
    },
    {
      "cell_type": "code",
      "source": [
        "# -------------------------------\n",
        "# ✅ Simulated Text Data for TF-IDF\n",
        "# -------------------------------\n",
        "def generate_text_features(row):\n",
        "    text_features = []\n",
        "\n",
        "    # Convert numerical scores into categorical labels\n",
        "    if row['engagement_score'] > 0.7:\n",
        "        text_features.append(\"high_engagement\")\n",
        "    elif row['engagement_score'] > 0.3:\n",
        "        text_features.append(\"medium_engagement\")\n",
        "    else:\n",
        "        text_features.append(\"low_engagement\")\n",
        "\n",
        "    if row['purchase_interest_score'] > 0.7:\n",
        "        text_features.append(\"high_interest\")\n",
        "    elif row['purchase_interest_score'] > 0.3:\n",
        "        text_features.append(\"medium_interest\")\n",
        "    else:\n",
        "        text_features.append(\"low_interest\")\n",
        "\n",
        "    return \" \".join(text_features)\n",
        "\n",
        "# Apply text conversion\n",
        "merged_data['text_features'] = merged_data.apply(generate_text_features, axis=1)\n",
        "\n",
        "# Apply TF-IDF\n",
        "vectorizer = TfidfVectorizer()\n",
        "tfidf_matrix = vectorizer.fit_transform(merged_data['text_features'])\n",
        "\n",
        "# Convert TF-IDF matrix to DataFrame\n",
        "tfidf_df = pd.DataFrame(tfidf_matrix.toarray(), columns=vectorizer.get_feature_names_out())\n",
        "\n",
        "# Merge TF-IDF features back to merged_data\n",
        "merged_data = pd.concat([merged_data, tfidf_df], axis=1)"
      ],
      "metadata": {
        "id": "DqNQG4IT_Abv"
      },
      "execution_count": 72,
      "outputs": []
    },
    {
      "cell_type": "code",
      "source": [
        "# -------------------------------\n",
        "# ✅ Customer Engagement Score\n",
        "# -------------------------------\n",
        "merged_data['customer_engagement_score'] = (\n",
        "    0.5 * merged_data['purchase_amount'] +\n",
        "    0.3 * merged_data['purchase_interest_score'] +\n",
        "    0.2 * merged_data['engagement_score']\n",
        ")"
      ],
      "metadata": {
        "id": "F-hCgXUM9iSI"
      },
      "execution_count": 73,
      "outputs": []
    },
    {
      "cell_type": "code",
      "source": [
        "# Save the final dataset\n",
        "merged_data.to_csv(\"final_customer_data_group_12.csv\", index=False)\n",
        "print(\"Final dataset saved as final_customer_data_group_12.csv\")"
      ],
      "metadata": {
        "colab": {
          "base_uri": "https://localhost:8080/"
        },
        "id": "mNGRY_S19l2T",
        "outputId": "0cb20b30-5e04-4a01-d2a1-6c6363e0fdd3"
      },
      "execution_count": 74,
      "outputs": [
        {
          "output_type": "stream",
          "name": "stdout",
          "text": [
            "Final dataset saved as final_customer_data_group_12.csv\n"
          ]
        }
      ]
    }
  ],
  "metadata": {
    "kernelspec": {
      "display_name": "myenv",
      "language": "python",
      "name": "python3"
    },
    "language_info": {
      "codemirror_mode": {
        "name": "ipython",
        "version": 3
      },
      "file_extension": ".py",
      "mimetype": "text/x-python",
      "name": "python",
      "nbconvert_exporter": "python",
      "pygments_lexer": "ipython3",
      "version": "3.12.8"
    },
    "colab": {
      "provenance": []
    }
  },
  "nbformat": 4,
  "nbformat_minor": 0
}