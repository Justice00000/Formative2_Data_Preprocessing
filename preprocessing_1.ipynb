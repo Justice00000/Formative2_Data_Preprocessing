{
 "cells": [
  {
   "cell_type": "code",
   "execution_count": 18,
   "metadata": {},
   "outputs": [
    {
     "ename": "ModuleNotFoundError",
     "evalue": "No module named 'matplotlib'",
     "output_type": "error",
     "traceback": [
      "\u001b[31m---------------------------------------------------------------------------\u001b[39m",
      "\u001b[31mModuleNotFoundError\u001b[39m                       Traceback (most recent call last)",
      "\u001b[36mCell\u001b[39m\u001b[36m \u001b[39m\u001b[32mIn[18]\u001b[39m\u001b[32m, line 4\u001b[39m\n\u001b[32m      2\u001b[39m \u001b[38;5;28;01mimport\u001b[39;00m\u001b[38;5;250m \u001b[39m\u001b[34;01mnumpy\u001b[39;00m\u001b[38;5;250m \u001b[39m\u001b[38;5;28;01mas\u001b[39;00m\u001b[38;5;250m \u001b[39m\u001b[34;01mnp\u001b[39;00m\n\u001b[32m      3\u001b[39m \u001b[38;5;28;01mimport\u001b[39;00m\u001b[38;5;250m \u001b[39m\u001b[34;01mpandas\u001b[39;00m\u001b[38;5;250m \u001b[39m\u001b[38;5;28;01mas\u001b[39;00m\u001b[38;5;250m \u001b[39m\u001b[34;01mpd\u001b[39;00m\n\u001b[32m----> \u001b[39m\u001b[32m4\u001b[39m \u001b[38;5;28;01mimport\u001b[39;00m\u001b[38;5;250m \u001b[39m\u001b[34;01mmatplotlib\u001b[39;00m\u001b[34;01m.\u001b[39;00m\u001b[34;01mpyplot\u001b[39;00m\u001b[38;5;250m \u001b[39m\u001b[38;5;28;01mas\u001b[39;00m\u001b[38;5;250m \u001b[39m\u001b[34;01mplt\u001b[39;00m\n",
      "\u001b[31mModuleNotFoundError\u001b[39m: No module named 'matplotlib'"
     ]
    }
   ],
   "source": [
    "import pandas as pd\n",
    "import numpy as np\n",
    "import pandas as pd\n",
    "import matplotlib.pyplot as plt"
   ]
  },
  {
   "cell_type": "markdown",
   "metadata": {},
   "source": [
    "## Loading the dataset"
   ]
  },
  {
   "cell_type": "code",
   "execution_count": 2,
   "metadata": {},
   "outputs": [],
   "source": [
    "data = pd.read_csv('customer_transactions.csv')"
   ]
  },
  {
   "cell_type": "markdown",
   "metadata": {},
   "source": [
    "## Data Cleaning & Handling Missing Values"
   ]
  },
  {
   "cell_type": "code",
   "execution_count": 3,
   "metadata": {},
   "outputs": [
    {
     "data": {
      "text/plain": [
       "customer_id_legacy     0\n",
       "transaction_id         0\n",
       "purchase_amount        0\n",
       "purchase_date          0\n",
       "product_category       0\n",
       "customer_rating       10\n",
       "dtype: int64"
      ]
     },
     "execution_count": 3,
     "metadata": {},
     "output_type": "execute_result"
    }
   ],
   "source": [
    "# Locate missing values\n",
    "missing_values = data.isnull().sum()\n",
    "missing_values"
   ]
  },
  {
   "cell_type": "code",
   "execution_count": 5,
   "metadata": {},
   "outputs": [],
   "source": [
    "# Create new dataframe for each method\n",
    "data_mean = data.copy()\n",
    "data_median = data.copy()\n",
    "data_mode = data.copy()\n",
    "data_predict = data.copy()"
   ]
  },
  {
   "cell_type": "code",
   "execution_count": null,
   "metadata": {},
   "outputs": [],
   "source": [
    "# Handling missing values\n",
    "\n",
    "# Mean Inputation\n",
    "data_mean.fillna({'customer_rating': data_mean['customer_rating'].mean()}, inplace=True)\n",
    "\n",
    "# Median Inputation\n",
    "data_median.fillna({'customer_rating': data_mean['customer_rating'].median()}, inplace=True)\n",
    "\n",
    "# Mode Inputation\n",
    "data_mode.fillna({'customer_rating': data_mean['customer_rating'].mode()}, inplace=True)"
   ]
  },
  {
   "cell_type": "code",
   "execution_count": 11,
   "metadata": {},
   "outputs": [
    {
     "data": {
      "text/plain": [
       "(customer_id_legacy    0\n",
       " transaction_id        0\n",
       " purchase_amount       0\n",
       " purchase_date         0\n",
       " product_category      0\n",
       " customer_rating       0\n",
       " dtype: int64,\n",
       " customer_id_legacy    0\n",
       " transaction_id        0\n",
       " purchase_amount       0\n",
       " purchase_date         0\n",
       " product_category      0\n",
       " customer_rating       0\n",
       " dtype: int64,\n",
       " customer_id_legacy    0\n",
       " transaction_id        0\n",
       " purchase_amount       0\n",
       " purchase_date         0\n",
       " product_category      0\n",
       " customer_rating       0\n",
       " dtype: int64)"
      ]
     },
     "execution_count": 11,
     "metadata": {},
     "output_type": "execute_result"
    }
   ],
   "source": [
    "data_mean.isna().sum(), data_median.isna().sum(), data_mode.isna().sum()"
   ]
  },
  {
   "cell_type": "code",
   "execution_count": 15,
   "metadata": {},
   "outputs": [
    {
     "data": {
      "text/plain": [
       "customer_id_legacy    0\n",
       "transaction_id        0\n",
       "purchase_amount       0\n",
       "purchase_date         0\n",
       "product_category      0\n",
       "customer_rating       0\n",
       "dtype: int64"
      ]
     },
     "execution_count": 15,
     "metadata": {},
     "output_type": "execute_result"
    }
   ],
   "source": [
    "# Predictive Inputation using KNN\n",
    "from sklearn.impute import KNNImputer\n",
    "\n",
    "\n",
    "imputer = KNNImputer(n_neighbors=5)\n",
    "\n",
    "data_predict['customer_rating'] = imputer.fit_transform(data_predict[['customer_rating']])\n",
    "\n",
    "data_predict.isna().sum()"
   ]
  },
  {
   "cell_type": "markdown",
   "metadata": {},
   "source": [
    "## Data Augmentation Strategies"
   ]
  },
  {
   "cell_type": "code",
   "execution_count": null,
   "metadata": {},
   "outputs": [],
   "source": [
    "# Random Noise Function\n",
    "\n",
    "def add_noise(df: pd.DataFrame, cols: list, noise_level=0.05) -> pd.DataFrame:\n",
    "    df_plus_noise = df.copy()\n",
    "    \n",
    "    for col in cols:\n",
    "        # Calculate the standard deviation of the column\n",
    "        std = df[col].std()\n",
    "\n",
    "        # Generates random noise\n",
    "        noise = np.random.normal(0, std*noise_level, df.shape[0])\n",
    "\n",
    "        # Add noise to the column\n",
    "        df_plus_noise[col] = df[col] + noise\n",
    "\n",
    "    return df_plus_noise\n"
   ]
  },
  {
   "cell_type": "code",
   "execution_count": null,
   "metadata": {},
   "outputs": [],
   "source": [
    "# SMOTE Function\n",
    "\n",
    "def balance_classes(df: pd.DataFrame, target: str) -> pd.DataFrame:\n",
    "    from imblearn.over_sampling import SMOTE\n",
    "\n",
    "    \n",
    "    smote = SMOTE(random_state=42)\n",
    "\n",
    "    X = df.drop(target, axis=1)\n",
    "    y = df[target]\n",
    "\n",
    "    X_resampled, y_resampled = smote.fit_resample(X, y)\n",
    "\n",
    "    df_resampled = pd.concat([X_resampled, y_resampled], axis=1)\n",
    "\n",
    "    return df_resampled"
   ]
  },
  {
   "cell_type": "code",
   "execution_count": 22,
   "metadata": {},
   "outputs": [],
   "source": [
    "# Feature Value Transformation Function\n",
    "\n",
    "def apply_log_transform(df: pd.DataFrame, cols: list) -> pd.DataFrame:\n",
    "    df_log = df.copy()\n",
    "    \n",
    "    for col in cols:\n",
    "        df_log[f'{col}_log'] = np.log1p(df_log[col])\n",
    "    \n",
    "    return df_log"
   ]
  },
  {
   "cell_type": "code",
   "execution_count": null,
   "metadata": {},
   "outputs": [],
   "source": [
    "# Data Expansion Function\n",
    "\n",
    "def expand_data(df: pd.DataFrame, cols: list) -> pd.DataFrame:\n",
    "    df_expanded = df.copy()"
   ]
  }
 ],
 "metadata": {
  "kernelspec": {
   "display_name": "myenv",
   "language": "python",
   "name": "python3"
  },
  "language_info": {
   "codemirror_mode": {
    "name": "ipython",
    "version": 3
   },
   "file_extension": ".py",
   "mimetype": "text/x-python",
   "name": "python",
   "nbconvert_exporter": "python",
   "pygments_lexer": "ipython3",
   "version": "3.12.8"
  }
 },
 "nbformat": 4,
 "nbformat_minor": 2
}
